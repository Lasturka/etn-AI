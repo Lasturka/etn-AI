{
  "nbformat": 4,
  "nbformat_minor": 0,
  "metadata": {
    "colab": {
      "name": "#1 Etn milk.ipynb",
      "provenance": [],
      "collapsed_sections": [],
      "include_colab_link": true
    },
    "kernelspec": {
      "name": "python3",
      "display_name": "Python 3"
    }
  },
  "cells": [
    {
      "cell_type": "markdown",
      "metadata": {
        "id": "view-in-github",
        "colab_type": "text"
      },
      "source": [
        "<a href=\"https://colab.research.google.com/github/Lasturka/etn-AI/blob/main/_1_Etn_milk.ipynb\" target=\"_parent\"><img src=\"https://colab.research.google.com/assets/colab-badge.svg\" alt=\"Open In Colab\"/></a>"
      ]
    },
    {
      "cell_type": "markdown",
      "metadata": {
        "id": "VQ3syspj_rKn"
      },
      "source": [
        "# Linear Discriminant Analysis (LDA)"
      ]
    },
    {
      "cell_type": "markdown",
      "metadata": {
        "id": "Hyp1gza1_6qX"
      },
      "source": [
        "## Importing the dataset\n",
        "\n",
        "*   Pandas library to load csv\n",
        "*   Independent variables (X): all rows incl. first header | columns from the third till the end\n",
        "*   Dependent variable (y): second column\n",
        "*   First column irrelevant"
      ]
    },
    {
      "cell_type": "code",
      "metadata": {
        "id": "lPLTDBVI__ZQ"
      },
      "source": [
        "import pandas as pd\n",
        "dataset = pd.read_csv('milk.csv')\n",
        "X = dataset.iloc[:, 2:].values\n",
        "y = dataset.iloc[:, 1].values"
      ],
      "execution_count": 171,
      "outputs": []
    },
    {
      "cell_type": "markdown",
      "metadata": {
        "id": "3bUhSHktAcOe"
      },
      "source": [
        "## Splitting the dataset into the Training set and Test set\n",
        "\n",
        "*   keeping default 75 % train set, 25 % test set\n",
        "*   random_state for consistent results\n",
        "\n"
      ]
    },
    {
      "cell_type": "code",
      "metadata": {
        "id": "L7hGLt1qAced"
      },
      "source": [
        "from sklearn.model_selection import train_test_split\n",
        "X_train, X_test, y_train, y_test = train_test_split(X, y, random_state=0)"
      ],
      "execution_count": 172,
      "outputs": []
    },
    {
      "cell_type": "markdown",
      "metadata": {
        "id": "1wrHODfJAEiI"
      },
      "source": [
        "## Feature Scaling\n",
        "\n",
        "*   Use standardization to resize values (mean -> 0, std. dev. = 1) for enhance model performance\n",
        "*   test set uses values computed on train set\n",
        "\n"
      ]
    },
    {
      "cell_type": "code",
      "metadata": {
        "id": "W-UCD7ezAJG2"
      },
      "source": [
        "from sklearn.preprocessing import StandardScaler\n",
        "sc = StandardScaler()\n",
        "X_train = sc.fit_transform(X_train)\n",
        "X_test = sc.transform(X_test)"
      ],
      "execution_count": 173,
      "outputs": []
    },
    {
      "cell_type": "markdown",
      "metadata": {
        "id": "S3i3lRiwASAX"
      },
      "source": [
        "## Applying LDA\n",
        "\n",
        "*   classification algorithm to reduce dimensionality\n",
        "*   find linear combinations of the observations\n",
        "*   extracted features set to 2 because of possibility visualization in 2D graph (at the end)\n",
        "*   supervised (relation to the dependent variable)\n",
        "*   maximizing the component axes for class-separation\n"
      ]
    },
    {
      "cell_type": "code",
      "metadata": {
        "id": "TAi_sSw9AVzI"
      },
      "source": [
        "from sklearn.discriminant_analysis import LinearDiscriminantAnalysis as LDA\n",
        "lda = LDA(n_components=2)\n",
        "X_trainLDA = lda.fit_transform(X_train, y_train)\n",
        "X_testLDA = lda.transform(X_test)"
      ],
      "execution_count": 174,
      "outputs": []
    },
    {
      "cell_type": "markdown",
      "metadata": {
        "id": "BF-XNKA9oNFT"
      },
      "source": [
        "## Applying PCA\n",
        "\n",
        "*   classification algorithm to reduce dimensionality\n",
        "*   component axes that maximize the variance"
      ]
    },
    {
      "cell_type": "code",
      "source": [
        "from sklearn.decomposition import PCA\n",
        "pca = PCA(n_components=2)\n",
        "X_trainPCA = pca.fit_transform(X_train)\n",
        "X_testPCA = pca.transform(X_test)"
      ],
      "metadata": {
        "id": "0vjXl69EoJMI"
      },
      "execution_count": 175,
      "outputs": []
    },
    {
      "cell_type": "markdown",
      "source": [
        "## Applying Kernel PCA\n",
        "\n",
        "*   radial basis funcion kernel instead of linear\n"
      ],
      "metadata": {
        "id": "Wc9sn2QJoTDr"
      }
    },
    {
      "cell_type": "code",
      "source": [
        "from sklearn.decomposition import KernelPCA as KPCA\n",
        "kpca = KPCA(n_components=2, kernel = 'rbf')\n",
        "X_trainKPCA = kpca.fit_transform(X_train)\n",
        "X_testKPCA = kpca.transform(X_test)"
      ],
      "metadata": {
        "id": "-zSpE2jsoaVL"
      },
      "execution_count": 176,
      "outputs": []
    },
    {
      "cell_type": "markdown",
      "metadata": {
        "id": "UBx16JVLAuel"
      },
      "source": [
        "## Training the Logistic Regression model on the Training set"
      ]
    },
    {
      "cell_type": "code",
      "metadata": {
        "id": "XDQahsqTAy44"
      },
      "source": [
        "from sklearn.linear_model import LogisticRegression"
      ],
      "execution_count": 177,
      "outputs": []
    },
    {
      "cell_type": "code",
      "source": [
        "classifierLDA = LogisticRegression(random_state = 0, max_iter=10000)\n",
        "classifierLDA.fit(X_trainLDA, y_train)"
      ],
      "metadata": {
        "colab": {
          "base_uri": "https://localhost:8080/"
        },
        "id": "xH27vCawH1QB",
        "outputId": "679b5fc1-8cbf-4def-a132-8716d2042e5a"
      },
      "execution_count": 178,
      "outputs": [
        {
          "output_type": "execute_result",
          "data": {
            "text/plain": [
              "LogisticRegression(max_iter=10000, random_state=0)"
            ]
          },
          "metadata": {},
          "execution_count": 178
        }
      ]
    },
    {
      "cell_type": "code",
      "source": [
        "classifierPCA = LogisticRegression(random_state = 0, max_iter=10000)\n",
        "classifierPCA.fit(X_trainPCA, y_train)"
      ],
      "metadata": {
        "colab": {
          "base_uri": "https://localhost:8080/"
        },
        "id": "vjCaFF-JH1mr",
        "outputId": "0aede459-744c-4599-e83b-07611dbc4a7d"
      },
      "execution_count": 179,
      "outputs": [
        {
          "output_type": "execute_result",
          "data": {
            "text/plain": [
              "LogisticRegression(max_iter=10000, random_state=0)"
            ]
          },
          "metadata": {},
          "execution_count": 179
        }
      ]
    },
    {
      "cell_type": "code",
      "source": [
        "classifierKPCA = LogisticRegression(random_state = 0, max_iter=10000)\n",
        "classifierKPCA.fit(X_trainKPCA, y_train)"
      ],
      "metadata": {
        "colab": {
          "base_uri": "https://localhost:8080/"
        },
        "id": "WXg1zktZU9e5",
        "outputId": "4969eceb-febe-4aca-d573-ef6b4454b568"
      },
      "execution_count": 180,
      "outputs": [
        {
          "output_type": "execute_result",
          "data": {
            "text/plain": [
              "LogisticRegression(max_iter=10000, random_state=0)"
            ]
          },
          "metadata": {},
          "execution_count": 180
        }
      ]
    },
    {
      "cell_type": "markdown",
      "metadata": {
        "id": "MTck416XBPnD"
      },
      "source": [
        "## Making the Confusion Matrix and compute accuracy\n",
        "\n",
        "\n"
      ]
    },
    {
      "cell_type": "code",
      "metadata": {
        "id": "2LO7H5LsBS1b"
      },
      "source": [
        "from sklearn.metrics import confusion_matrix, accuracy_score"
      ],
      "execution_count": 181,
      "outputs": []
    },
    {
      "cell_type": "markdown",
      "source": [
        "## Resuls for Linear Discriminant Analysis\n",
        "*   Out of 113 predictions (1/4 of total 450 measurments):\n",
        "1.   101 correct predictions (89 %) of lactose content group\n",
        "2.   12 incorrect predictions (11 %), of which 8 predicted lower content of lactose and 4 predicted higher content than actual\n",
        "\n",
        "*   I coudl't find, why accuracy accross 10 different train/test sets was 100% +- 0 % and clearly not correspond to accuracy of chosen train/test set"
      ],
      "metadata": {
        "id": "hv6cNuk0V9Pt"
      }
    },
    {
      "cell_type": "code",
      "source": [
        "y_predLDA = classifierLDA.predict(X_testLDA)\n",
        "cm = confusion_matrix(y_test, y_predLDA)\n",
        "print(cm)\n",
        "print(\"Accuracy score: {:.2f} %\".format(accuracy_score(y_test, y_predLDA)*100))\n",
        "\n",
        "from sklearn.model_selection import cross_val_score\n",
        "accuracies = cross_val_score(estimator = classifierLDA, X = X_trainLDA, y = y_train, cv = 10)\n",
        "print(\"Accuracy: {:.2f} %\".format(accuracies.mean()*100))\n",
        "print(\"Standard Deviation: {:.2f} %\".format(accuracies.std()*100))"
      ],
      "metadata": {
        "colab": {
          "base_uri": "https://localhost:8080/"
        },
        "id": "5bEDqEj3ILOM",
        "outputId": "5a3da34f-6fcf-4f1d-ddfe-d3ee222e6c5e"
      },
      "execution_count": 182,
      "outputs": [
        {
          "output_type": "stream",
          "name": "stdout",
          "text": [
            "[[15  0  0  0  0  0  0  0  0]\n",
            " [ 0 12  1  0  0  0  0  0  0]\n",
            " [ 0  0 11  2  0  0  0  0  0]\n",
            " [ 0  0  3 11  0  0  0  0  0]\n",
            " [ 0  0  0  0 14  0  0  0  0]\n",
            " [ 0  0  0  0  0  9  0  0  0]\n",
            " [ 0  0  0  0  0  1  8  1  0]\n",
            " [ 0  0  0  0  0  0  0 10  4]\n",
            " [ 0  0  0  0  0  0  0  0 11]]\n",
            "Accuracy score: 89.38 %\n",
            "Accuracy: 100.00 %\n",
            "Standard Deviation: 0.00 %\n"
          ]
        }
      ]
    },
    {
      "cell_type": "markdown",
      "source": [
        "## Resuls for Principal Component Analysis\n",
        "*   Out of 113 predictions:\n",
        "1.   102 correct predictions (90 %) of lactose content group\n",
        "2.   11 incorrect predictions (10 %) of which 8 predicted lower content of lactose and 3 predicted higher content than actual"
      ],
      "metadata": {
        "id": "_AIRo7dEWMMj"
      }
    },
    {
      "cell_type": "code",
      "source": [
        "y_predPCA = classifierPCA.predict(X_testPCA)\n",
        "cm = confusion_matrix(y_test, y_predPCA)\n",
        "print(cm)\n",
        "print(\"Accuracy score: {:.2f} %\".format(accuracy_score(y_test, y_predPCA)*100))\n",
        "\n",
        "from sklearn.model_selection import cross_val_score\n",
        "accuracies = cross_val_score(estimator = classifierPCA, X = X_trainPCA, y = y_train, cv = 10)\n",
        "print(\"Accuracy: {:.2f} %\".format(accuracies.mean()*100))\n",
        "print(\"Standard Deviation: {:.2f} %\".format(accuracies.std()*100))"
      ],
      "metadata": {
        "colab": {
          "base_uri": "https://localhost:8080/"
        },
        "id": "l4KeOAg8ILkj",
        "outputId": "ccba2715-3a91-46df-ffb6-39dc467d01c6"
      },
      "execution_count": 183,
      "outputs": [
        {
          "output_type": "stream",
          "name": "stdout",
          "text": [
            "[[15  0  0  0  0  0  0  0  0]\n",
            " [ 0 12  0  1  0  0  0  0  0]\n",
            " [ 0  0 13  0  0  0  0  0  0]\n",
            " [ 0  0  0 13  0  1  0  0  0]\n",
            " [ 0  0  0  0 11  0  3  0  0]\n",
            " [ 0  0  0  0  0  7  2  0  0]\n",
            " [ 0  0  0  0  0  1  8  1  0]\n",
            " [ 0  0  0  0  0  0  1 13  0]\n",
            " [ 0  0  0  0  0  0  0  1 10]]\n",
            "Accuracy score: 90.27 %\n",
            "Accuracy: 90.20 %\n",
            "Standard Deviation: 4.02 %\n"
          ]
        }
      ]
    },
    {
      "cell_type": "markdown",
      "source": [
        "## Resuls for Kernel Principal Component Analysis\n",
        "*   Out of 113 predictions:\n",
        "1.   only 64 correct predictions (56.5 %)\n",
        "2.   49 incorrect predictions (43,5 %)"
      ],
      "metadata": {
        "id": "yWbQGLAZXJz9"
      }
    },
    {
      "cell_type": "code",
      "source": [
        "y_predKPCA = classifierKPCA.predict(X_testKPCA)\n",
        "cm = confusion_matrix(y_test, y_predKPCA)\n",
        "print(cm)\n",
        "print(\"Accuracy score: {:.2f} %\".format(accuracy_score(y_test, y_predKPCA)*100))"
      ],
      "metadata": {
        "colab": {
          "base_uri": "https://localhost:8080/"
        },
        "id": "XTRIFOgfVFUg",
        "outputId": "c16009e2-becb-46b9-c9b6-1a6758a1d648"
      },
      "execution_count": 184,
      "outputs": [
        {
          "output_type": "stream",
          "name": "stdout",
          "text": [
            "[[ 0  0  0  0  0  0  0  0 15]\n",
            " [ 0 11  0  2  0  0  0  0  0]\n",
            " [ 0  0  8  4  0  1  0  0  0]\n",
            " [ 0  2  5  7  0  0  0  0  0]\n",
            " [ 0  0  0  0  0  8  3  3  0]\n",
            " [ 0  0  0  0  0  6  3  0  0]\n",
            " [ 0  0  0  0  0  1  8  1  0]\n",
            " [ 0  0  0  0  0  0  0 14  0]\n",
            " [ 0  0  0  0  0  0  0  1 10]]\n",
            "Accuracy score: 56.64 %\n"
          ]
        }
      ]
    },
    {
      "cell_type": "markdown",
      "source": [
        "## Models comparison and final restult\n",
        "\n",
        "*   PCA and LDA shows both similar and very good result prediction of ~90 %\n",
        "*   Using radial basis function showed poor accuracy slightly above 50 %, but:\n",
        "*   If we remove limit of components, PCA and KPCA has significantly higer accuracy of ~98 %, resp. ~92 %, but then we cannot plot ~8D graph :)\n",
        "*   I tryed also XGBClassifier (not shown here) with results about 88 %\n",
        "\n"
      ],
      "metadata": {
        "id": "UsFtCQbmbfWH"
      }
    },
    {
      "cell_type": "markdown",
      "metadata": {
        "id": "h6pZMBrUBXwb"
      },
      "source": [
        "## Visualising the Training set results\n",
        "\n",
        "*   for LDA\n",
        "*   showing on train set\n",
        "\n",
        "\n",
        "\n"
      ]
    },
    {
      "cell_type": "code",
      "metadata": {
        "id": "FK_LpLOeBdQ4",
        "colab": {
          "base_uri": "https://localhost:8080/",
          "height": 295
        },
        "outputId": "40063fb8-635b-4653-970b-a8d8f83bc901"
      },
      "source": [
        "import matplotlib.pyplot as plt\n",
        "import numpy as np\n",
        "\n",
        "from matplotlib.colors import ListedColormap\n",
        "X_set, y_set = X_trainLDA, y_train\n",
        "X1, X2 = np.meshgrid(np.arange(start = X_set[:, 0].min() - 5, stop = X_set[:, 0].max() + 5, step = 0.1),\n",
        "                     np.arange(start = X_set[:, 1].min() - 5, stop = X_set[:, 1].max() + 5, step = 0.1))\n",
        "plt.contourf(X1, X2, classifierLDA.predict(np.array([X1.ravel(), X2.ravel()]).T).reshape(X1.shape),\n",
        "             alpha = 0.75, cmap = ListedColormap([\"red\", \"green\", \"blue\",\n",
        "                                                  \"yellow\", \"orange\", \"brown\",\n",
        "                                                  \"lightgreen\", \"grey\", \"cyan\"]))\n",
        "plt.xlim(X1.min(), X1.max())\n",
        "plt.ylim(X2.min(), X2.max())\n",
        "for i, j in enumerate(np.unique(y_set)):\n",
        "    plt.scatter(X_set[y_set == j, 0], X_set[y_set == j, 1],\n",
        "                c = [\"red\", \"green\", \"blue\",\n",
        "                     \"yellow\", \"orange\", \"brown\",\n",
        "                     \"lightgreen\", \"grey\", \"cyan\"][i], label = j)\n",
        "plt.title('Logistic Regression (Training set)')\n",
        "plt.xlabel('LD1')\n",
        "plt.ylabel('LD2')\n",
        "plt.legend()\n",
        "plt.show()"
      ],
      "execution_count": 196,
      "outputs": [
        {
          "output_type": "display_data",
          "data": {
            "text/plain": [
              "<Figure size 432x288 with 1 Axes>"
            ],
            "image/png": "[encoded data removed]"
          },
          "metadata": {
            "needs_background": "light"
          }
        }
      ]
    },
    {
      "cell_type": "markdown",
      "metadata": {
        "id": "-Dbzx_KqBguX"
      },
      "source": [
        "## Visualising the Test set results"
      ]
    },
    {
      "cell_type": "markdown",
      "source": [
        "*   for LDA\n",
        "*   showing on test set\n",
        "*   we can see some of those 12 incorrect predictions\n",
        "\n"
      ],
      "metadata": {
        "id": "7mxWKceRZMvz"
      }
    },
    {
      "cell_type": "code",
      "metadata": {
        "id": "kk07XbUHBl0W",
        "colab": {
          "base_uri": "https://localhost:8080/",
          "height": 295
        },
        "outputId": "454a95ba-e37f-417d-f75e-8cd582c790a7"
      },
      "source": [
        "from matplotlib.colors import ListedColormap\n",
        "X_set, y_set = X_testLDA, y_test\n",
        "X1, X2 = np.meshgrid(np.arange(start = X_set[:, 0].min() - 5, stop = X_set[:, 0].max() + 5, step = 0.1),\n",
        "                     np.arange(start = X_set[:, 1].min() - 5, stop = X_set[:, 1].max() + 5, step = 0.1))\n",
        "plt.contourf(X1, X2, classifierLDA.predict(np.array([X1.ravel(), X2.ravel()]).T).reshape(X1.shape),\n",
        "             alpha = 0.75, cmap = ListedColormap([\"red\", \"green\", \"blue\",\n",
        "                                                  \"yellow\", \"orange\", \"brown\",\n",
        "                                                  \"lightgreen\", \"grey\", \"cyan\"]))\n",
        "plt.xlim(X1.min(), X1.max())\n",
        "plt.ylim(X2.min(), X2.max())\n",
        "for i, j in enumerate(np.unique(y_set)):\n",
        "    plt.scatter(X_set[y_set == j, 0], X_set[y_set == j, 1],\n",
        "                c = [\"red\", \"green\", \"blue\",\n",
        "                     \"yellow\", \"orange\", \"brown\",\n",
        "                     \"lightgreen\", \"grey\", \"cyan\"][i], label = j)\n",
        "plt.title('Logistic Regression (Test set)')\n",
        "plt.xlabel('LD1')\n",
        "plt.ylabel('LD2')\n",
        "plt.legend()\n",
        "plt.show()"
      ],
      "execution_count": 197,
      "outputs": [
        {
          "output_type": "display_data",
          "data": {
            "text/plain": [
              "<Figure size 432x288 with 1 Axes>"
            ],
            "image/png": "[encoded data removed]"
          },
          "metadata": {
            "needs_background": "light"
          }
        }
      ]
    }
  ]
}