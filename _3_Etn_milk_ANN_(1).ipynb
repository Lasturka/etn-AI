{
  "nbformat": 4,
  "nbformat_minor": 0,
  "metadata": {
    "colab": {
      "name": "#3 Etn milk ANN (1).ipynb",
      "provenance": [],
      "collapsed_sections": [],
      "include_colab_link": true
    },
    "kernelspec": {
      "name": "python3",
      "display_name": "Python 3"
    }
  },
  "cells": [
    {
      "cell_type": "markdown",
      "metadata": {
        "id": "view-in-github",
        "colab_type": "text"
      },
      "source": [
        "<a href=\"https://colab.research.google.com/github/Lasturka/etn-AI/blob/main/_3_Etn_milk_ANN_(1).ipynb\" target=\"_parent\"><img src=\"https://colab.research.google.com/assets/colab-badge.svg\" alt=\"Open In Colab\"/></a>"
      ]
    },
    {
      "cell_type": "markdown",
      "metadata": {
        "id": "Hyp1gza1_6qX"
      },
      "source": [
        "## Importing the dataset\n",
        "\n"
      ]
    },
    {
      "cell_type": "code",
      "metadata": {
        "id": "lPLTDBVI__ZQ"
      },
      "source": [
        "import pandas as pd\n",
        "dataset = pd.read_csv('milk.csv')\n",
        "X = dataset.iloc[:, 2:].values\n",
        "y = dataset.iloc[:, 1].values"
      ],
      "execution_count": 50,
      "outputs": []
    },
    {
      "cell_type": "markdown",
      "metadata": {
        "id": "3bUhSHktAcOe"
      },
      "source": [
        "## Splitting the dataset into the Training set and Test set\n",
        "\n"
      ]
    },
    {
      "cell_type": "code",
      "metadata": {
        "id": "L7hGLt1qAced"
      },
      "source": [
        "from sklearn.model_selection import train_test_split\n",
        "X_train, X_test, y_train, y_test = train_test_split(X, y, random_state=0)"
      ],
      "execution_count": 51,
      "outputs": []
    },
    {
      "cell_type": "markdown",
      "metadata": {
        "id": "1wrHODfJAEiI"
      },
      "source": [
        "## Feature Scaling\n",
        "\n"
      ]
    },
    {
      "cell_type": "code",
      "metadata": {
        "id": "W-UCD7ezAJG2"
      },
      "source": [
        "from sklearn.preprocessing import StandardScaler\n",
        "sc = StandardScaler()\n",
        "X_train = sc.fit_transform(X_train)\n",
        "X_test = sc.transform(X_test)"
      ],
      "execution_count": 52,
      "outputs": []
    },
    {
      "cell_type": "code",
      "source": [
        "import tensorflow as tf\n",
        "from tensorflow.keras.models import Sequential\n",
        "from tensorflow.keras.layers import Dense\n",
        "from tensorflow.keras.optimizers import SGD\n",
        "from tensorflow.keras.models import Sequential\n",
        "from tensorflow.keras.metrics import SparseCategoricalAccuracy"
      ],
      "metadata": {
        "id": "KNEefAlzHZzR"
      },
      "execution_count": 74,
      "outputs": []
    },
    {
      "cell_type": "code",
      "source": [
        "classifier = Sequential()\n",
        "classifier.add(Dense(units=10, activation='relu'))\n",
        "classifier.add(Dense(units=10, activation='softmax'))\n",
        "\n",
        "optimizer = SGD(learning_rate=0.01)\n",
        "metrics=[SparseCategoricalAccuracy()]\n",
        "classifier.compile(optimizer = optimizer, loss = 'sparse_categorical_crossentropy', metrics = metrics)\n",
        "classifier.fit(X_train, y_train, batch_size=1, epochs=20)"
      ],
      "metadata": {
        "id": "ZVcaYVLomeVF",
        "colab": {
          "base_uri": "https://localhost:8080/"
        },
        "outputId": "410f962c-eb10-4ec1-fd5d-38ad6bf90c41"
      },
      "execution_count": 64,
      "outputs": [
        {
          "output_type": "stream",
          "name": "stdout",
          "text": [
            "Epoch 1/20\n",
            "337/337 [==============================] - 1s 3ms/step - loss: 1.0023 - sparse_categorical_accuracy: 0.6320\n",
            "Epoch 2/20\n",
            "337/337 [==============================] - 1s 2ms/step - loss: 0.4695 - sparse_categorical_accuracy: 0.7953\n",
            "Epoch 3/20\n",
            "337/337 [==============================] - 1s 3ms/step - loss: 0.3817 - sparse_categorical_accuracy: 0.8665\n",
            "Epoch 4/20\n",
            "337/337 [==============================] - 1s 3ms/step - loss: 0.2913 - sparse_categorical_accuracy: 0.9021\n",
            "Epoch 5/20\n",
            "337/337 [==============================] - 1s 2ms/step - loss: 0.2677 - sparse_categorical_accuracy: 0.9199\n",
            "Epoch 6/20\n",
            "337/337 [==============================] - 1s 2ms/step - loss: 0.2222 - sparse_categorical_accuracy: 0.9228\n",
            "Epoch 7/20\n",
            "337/337 [==============================] - 1s 2ms/step - loss: 0.2110 - sparse_categorical_accuracy: 0.9228\n",
            "Epoch 8/20\n",
            "337/337 [==============================] - 1s 2ms/step - loss: 0.1456 - sparse_categorical_accuracy: 0.9644\n",
            "Epoch 9/20\n",
            "337/337 [==============================] - 1s 3ms/step - loss: 0.1238 - sparse_categorical_accuracy: 0.9585\n",
            "Epoch 10/20\n",
            "337/337 [==============================] - 1s 3ms/step - loss: 0.1165 - sparse_categorical_accuracy: 0.9614\n",
            "Epoch 11/20\n",
            "337/337 [==============================] - 1s 2ms/step - loss: 0.1550 - sparse_categorical_accuracy: 0.9347\n",
            "Epoch 12/20\n",
            "337/337 [==============================] - 1s 2ms/step - loss: 0.0759 - sparse_categorical_accuracy: 0.9852\n",
            "Epoch 13/20\n",
            "337/337 [==============================] - 1s 2ms/step - loss: 0.0855 - sparse_categorical_accuracy: 0.9763\n",
            "Epoch 14/20\n",
            "337/337 [==============================] - 1s 2ms/step - loss: 0.0807 - sparse_categorical_accuracy: 0.9792\n",
            "Epoch 15/20\n",
            "337/337 [==============================] - 2s 5ms/step - loss: 0.0609 - sparse_categorical_accuracy: 0.9911\n",
            "Epoch 16/20\n",
            "337/337 [==============================] - 0s 1ms/step - loss: 0.0342 - sparse_categorical_accuracy: 0.9970\n",
            "Epoch 17/20\n",
            "337/337 [==============================] - 1s 2ms/step - loss: 0.0307 - sparse_categorical_accuracy: 1.0000\n",
            "Epoch 18/20\n",
            "337/337 [==============================] - 0s 1ms/step - loss: 0.0434 - sparse_categorical_accuracy: 0.9852\n",
            "Epoch 19/20\n",
            "337/337 [==============================] - 0s 1ms/step - loss: 0.0293 - sparse_categorical_accuracy: 0.9970\n",
            "Epoch 20/20\n",
            "337/337 [==============================] - 0s 1ms/step - loss: 0.0202 - sparse_categorical_accuracy: 1.0000\n"
          ]
        }
      ]
    },
    {
      "cell_type": "markdown",
      "metadata": {
        "id": "MTck416XBPnD"
      },
      "source": [
        "## Making the Confusion Matrix and compute accuracy\n",
        "\n",
        "\n"
      ]
    },
    {
      "cell_type": "code",
      "metadata": {
        "id": "2LO7H5LsBS1b",
        "colab": {
          "base_uri": "https://localhost:8080/"
        },
        "outputId": "498695c1-22de-489f-bb86-23451e7b15ee"
      },
      "source": [
        "from sklearn.metrics import confusion_matrix\n",
        "y_pred = classifier.predict(X_test)\n",
        "\n",
        "predicted_categories = tf.argmax(y_pred, axis=1)\n",
        "true_categories = tf.concat([y for y in y_test], axis=0)\n",
        "\n",
        "confusion_matrix(predicted_categories, true_categories)"
      ],
      "execution_count": 73,
      "outputs": [
        {
          "output_type": "execute_result",
          "data": {
            "text/plain": [
              "array([[15,  0,  0,  0,  0,  0,  0,  0,  0],\n",
              "       [ 0, 13,  0,  1,  0,  0,  0,  0,  0],\n",
              "       [ 0,  0, 13,  0,  0,  0,  0,  0,  0],\n",
              "       [ 0,  0,  0, 13,  0,  0,  0,  0,  0],\n",
              "       [ 0,  0,  0,  0, 14,  0,  0,  0,  0],\n",
              "       [ 0,  0,  0,  0,  0,  9,  0,  0,  0],\n",
              "       [ 0,  0,  0,  0,  0,  0,  9,  1,  0],\n",
              "       [ 0,  0,  0,  0,  0,  0,  1, 13,  1],\n",
              "       [ 0,  0,  0,  0,  0,  0,  0,  0, 10]])"
            ]
          },
          "metadata": {},
          "execution_count": 73
        }
      ]
    },
    {
      "cell_type": "code",
      "source": [
        "_, train_accuracy = classifier.evaluate(X_train, y_train, verbose=0)\n",
        "_, test_accuracy = classifier.evaluate(X_test, y_test, verbose=0)\n",
        "print('Train: %.3f, Test: %.3f' % (train_accuracy, test_accuracy))"
      ],
      "metadata": {
        "colab": {
          "base_uri": "https://localhost:8080/"
        },
        "id": "JXctz4HEJzmJ",
        "outputId": "cbe89700-66ba-4fff-df7e-18e213a5613c"
      },
      "execution_count": 69,
      "outputs": [
        {
          "output_type": "stream",
          "name": "stdout",
          "text": [
            "Train: 1.000, Test: 0.965\n"
          ]
        }
      ]
    }
  ]
}