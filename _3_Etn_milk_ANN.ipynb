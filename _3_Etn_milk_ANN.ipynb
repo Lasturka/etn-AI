{
  "nbformat": 4,
  "nbformat_minor": 0,
  "metadata": {
    "colab": {
      "name": "#3 Etn milk ANN.ipynb",
      "provenance": [],
      "collapsed_sections": [],
      "include_colab_link": true
    },
    "kernelspec": {
      "name": "python3",
      "display_name": "Python 3"
    }
  },
  "cells": [
    {
      "cell_type": "markdown",
      "metadata": {
        "id": "view-in-github",
        "colab_type": "text"
      },
      "source": [
        "<a href=\"https://colab.research.google.com/github/Lasturka/etn-AI/blob/main/_3_Etn_milk_ANN.ipynb\" target=\"_parent\"><img src=\"https://colab.research.google.com/assets/colab-badge.svg\" alt=\"Open In Colab\"/></a>"
      ]
    },
    {
      "cell_type": "markdown",
      "metadata": {
        "id": "VQ3syspj_rKn"
      },
      "source": [
        "# Linear Discriminant Analysis (LDA)"
      ]
    },
    {
      "cell_type": "markdown",
      "metadata": {
        "id": "Hyp1gza1_6qX"
      },
      "source": [
        "## Importing the dataset\n",
        "\n",
        "*   Pandas library to load csv\n",
        "*   Independent variables (X): all rows incl. first header | columns from the third till the end\n",
        "*   Dependent variable (y): second column\n",
        "*   First column irrelevant"
      ]
    },
    {
      "cell_type": "code",
      "metadata": {
        "id": "lPLTDBVI__ZQ"
      },
      "source": [
        "import pandas as pd\n",
        "dataset = pd.read_csv('milk.csv')\n",
        "X = dataset.iloc[:, 2:].values\n",
        "y = dataset.iloc[:, 1].values"
      ],
      "execution_count": null,
      "outputs": []
    },
    {
      "cell_type": "markdown",
      "metadata": {
        "id": "3bUhSHktAcOe"
      },
      "source": [
        "## Splitting the dataset into the Training set and Test set\n",
        "\n",
        "*   keeping default 75 % train set, 25 % test set\n",
        "*   random_state for consistent results\n",
        "\n"
      ]
    },
    {
      "cell_type": "code",
      "metadata": {
        "id": "L7hGLt1qAced"
      },
      "source": [
        "from sklearn.model_selection import train_test_split\n",
        "X_train, X_test, y_train, y_test = train_test_split(X, y, random_state=0)"
      ],
      "execution_count": null,
      "outputs": []
    },
    {
      "cell_type": "markdown",
      "metadata": {
        "id": "1wrHODfJAEiI"
      },
      "source": [
        "## Feature Scaling\n",
        "\n",
        "*   Use standardization to resize values (mean -> 0, std. dev. = 1) for enhance model performance\n",
        "*   test set uses values computed on train set\n",
        "\n"
      ]
    },
    {
      "cell_type": "code",
      "metadata": {
        "id": "W-UCD7ezAJG2"
      },
      "source": [
        "from sklearn.preprocessing import StandardScaler\n",
        "sc = StandardScaler()\n",
        "X_train = sc.fit_transform(X_train)\n",
        "X_test = sc.transform(X_test)"
      ],
      "execution_count": null,
      "outputs": []
    },
    {
      "cell_type": "code",
      "source": [
        "import tensorflow as tf\n",
        "ann = tf.keras.models.Sequential()\n",
        "ann.add(tf.keras.layers.Dense(units=6, activation='relu'))\n",
        "ann.add(tf.keras.layers.Dense(units=6, activation='relu'))\n",
        "ann.add(tf.keras.layers.Dense(units=1, activation='sigmoid'))"
      ],
      "metadata": {
        "id": "ZVcaYVLomeVF"
      },
      "execution_count": null,
      "outputs": []
    },
    {
      "cell_type": "code",
      "source": [
        "ann.compile(optimizer = 'adam', loss = tf.keras.losses.categorical_crossentropy, metrics = ['accuracy'])\n",
        "ann.fit(X_train, y_train, batch_size = 32, epochs = 100)"
      ],
      "metadata": {
        "colab": {
          "base_uri": "https://localhost:8080/"
        },
        "id": "1ZtTXjpO3R8I",
        "outputId": "766162ea-5ccf-45e9-a619-c3f1de5917fb"
      },
      "execution_count": null,
      "outputs": [
        {
          "output_type": "stream",
          "name": "stdout",
          "text": [
            "Epoch 1/100\n",
            "11/11 [==============================] - 1s 3ms/step - loss: 0.0000e+00 - accuracy: 0.1039\n",
            "Epoch 2/100\n",
            "11/11 [==============================] - 0s 4ms/step - loss: 0.0000e+00 - accuracy: 0.1039\n",
            "Epoch 3/100\n",
            "11/11 [==============================] - 0s 3ms/step - loss: 0.0000e+00 - accuracy: 0.1039\n",
            "Epoch 4/100\n",
            "11/11 [==============================] - 0s 3ms/step - loss: 0.0000e+00 - accuracy: 0.1039\n",
            "Epoch 5/100\n",
            "11/11 [==============================] - 0s 3ms/step - loss: 0.0000e+00 - accuracy: 0.1039\n",
            "Epoch 6/100\n",
            "11/11 [==============================] - 0s 4ms/step - loss: 0.0000e+00 - accuracy: 0.1039\n",
            "Epoch 7/100\n",
            "11/11 [==============================] - 0s 3ms/step - loss: 0.0000e+00 - accuracy: 0.1039\n",
            "Epoch 8/100\n",
            "11/11 [==============================] - 0s 4ms/step - loss: 0.0000e+00 - accuracy: 0.1039\n",
            "Epoch 9/100\n",
            "11/11 [==============================] - 0s 4ms/step - loss: 0.0000e+00 - accuracy: 0.1039\n",
            "Epoch 10/100\n",
            "11/11 [==============================] - 0s 4ms/step - loss: 0.0000e+00 - accuracy: 0.1039\n",
            "Epoch 11/100\n",
            "11/11 [==============================] - 0s 3ms/step - loss: 0.0000e+00 - accuracy: 0.1039\n",
            "Epoch 12/100\n",
            "11/11 [==============================] - 0s 3ms/step - loss: 0.0000e+00 - accuracy: 0.1039\n",
            "Epoch 13/100\n",
            "11/11 [==============================] - 0s 4ms/step - loss: 0.0000e+00 - accuracy: 0.1039\n",
            "Epoch 14/100\n",
            "11/11 [==============================] - 0s 4ms/step - loss: 0.0000e+00 - accuracy: 0.1039\n",
            "Epoch 15/100\n",
            "11/11 [==============================] - 0s 4ms/step - loss: 0.0000e+00 - accuracy: 0.1039\n",
            "Epoch 16/100\n",
            "11/11 [==============================] - 0s 3ms/step - loss: 0.0000e+00 - accuracy: 0.1039\n",
            "Epoch 17/100\n",
            "11/11 [==============================] - 0s 3ms/step - loss: 0.0000e+00 - accuracy: 0.1039\n",
            "Epoch 18/100\n",
            "11/11 [==============================] - 0s 4ms/step - loss: 0.0000e+00 - accuracy: 0.1039\n",
            "Epoch 19/100\n",
            "11/11 [==============================] - 0s 3ms/step - loss: 0.0000e+00 - accuracy: 0.1039\n",
            "Epoch 20/100\n",
            "11/11 [==============================] - 0s 3ms/step - loss: 0.0000e+00 - accuracy: 0.1039\n",
            "Epoch 21/100\n",
            "11/11 [==============================] - 0s 3ms/step - loss: 0.0000e+00 - accuracy: 0.1039\n",
            "Epoch 22/100\n",
            "11/11 [==============================] - 0s 4ms/step - loss: 0.0000e+00 - accuracy: 0.1039\n",
            "Epoch 23/100\n",
            "11/11 [==============================] - 0s 3ms/step - loss: 0.0000e+00 - accuracy: 0.1039\n",
            "Epoch 24/100\n",
            "11/11 [==============================] - 0s 2ms/step - loss: 0.0000e+00 - accuracy: 0.1039\n",
            "Epoch 25/100\n",
            "11/11 [==============================] - 0s 2ms/step - loss: 0.0000e+00 - accuracy: 0.1039\n",
            "Epoch 26/100\n",
            "11/11 [==============================] - 0s 2ms/step - loss: 0.0000e+00 - accuracy: 0.1039\n",
            "Epoch 27/100\n",
            "11/11 [==============================] - 0s 3ms/step - loss: 0.0000e+00 - accuracy: 0.1039\n",
            "Epoch 28/100\n",
            "11/11 [==============================] - 0s 2ms/step - loss: 0.0000e+00 - accuracy: 0.1039\n",
            "Epoch 29/100\n",
            "11/11 [==============================] - 0s 3ms/step - loss: 0.0000e+00 - accuracy: 0.1039\n",
            "Epoch 30/100\n",
            "11/11 [==============================] - 0s 2ms/step - loss: 0.0000e+00 - accuracy: 0.1039\n",
            "Epoch 31/100\n",
            "11/11 [==============================] - 0s 3ms/step - loss: 0.0000e+00 - accuracy: 0.1039\n",
            "Epoch 32/100\n",
            "11/11 [==============================] - 0s 3ms/step - loss: 0.0000e+00 - accuracy: 0.1039\n",
            "Epoch 33/100\n",
            "11/11 [==============================] - 0s 3ms/step - loss: 0.0000e+00 - accuracy: 0.1039\n",
            "Epoch 34/100\n",
            "11/11 [==============================] - 0s 3ms/step - loss: 0.0000e+00 - accuracy: 0.1039\n",
            "Epoch 35/100\n",
            "11/11 [==============================] - 0s 2ms/step - loss: 0.0000e+00 - accuracy: 0.1039\n",
            "Epoch 36/100\n",
            "11/11 [==============================] - 0s 4ms/step - loss: 0.0000e+00 - accuracy: 0.1039\n",
            "Epoch 37/100\n",
            "11/11 [==============================] - 0s 2ms/step - loss: 0.0000e+00 - accuracy: 0.1039\n",
            "Epoch 38/100\n",
            "11/11 [==============================] - 0s 2ms/step - loss: 0.0000e+00 - accuracy: 0.1039\n",
            "Epoch 39/100\n",
            "11/11 [==============================] - 0s 3ms/step - loss: 0.0000e+00 - accuracy: 0.1039\n",
            "Epoch 40/100\n",
            "11/11 [==============================] - 0s 2ms/step - loss: 0.0000e+00 - accuracy: 0.1039\n",
            "Epoch 41/100\n",
            "11/11 [==============================] - 0s 2ms/step - loss: 0.0000e+00 - accuracy: 0.1039\n",
            "Epoch 42/100\n",
            "11/11 [==============================] - 0s 2ms/step - loss: 0.0000e+00 - accuracy: 0.1039\n",
            "Epoch 43/100\n",
            "11/11 [==============================] - 0s 2ms/step - loss: 0.0000e+00 - accuracy: 0.1039\n",
            "Epoch 44/100\n",
            "11/11 [==============================] - 0s 3ms/step - loss: 0.0000e+00 - accuracy: 0.1039\n",
            "Epoch 45/100\n",
            "11/11 [==============================] - 0s 2ms/step - loss: 0.0000e+00 - accuracy: 0.1039\n",
            "Epoch 46/100\n",
            "11/11 [==============================] - 0s 3ms/step - loss: 0.0000e+00 - accuracy: 0.1039\n",
            "Epoch 47/100\n",
            "11/11 [==============================] - 0s 3ms/step - loss: 0.0000e+00 - accuracy: 0.1039\n",
            "Epoch 48/100\n",
            "11/11 [==============================] - 0s 2ms/step - loss: 0.0000e+00 - accuracy: 0.1039\n",
            "Epoch 49/100\n",
            "11/11 [==============================] - 0s 2ms/step - loss: 0.0000e+00 - accuracy: 0.1039\n",
            "Epoch 50/100\n",
            "11/11 [==============================] - 0s 2ms/step - loss: 0.0000e+00 - accuracy: 0.1039\n",
            "Epoch 51/100\n",
            "11/11 [==============================] - 0s 3ms/step - loss: 0.0000e+00 - accuracy: 0.1039\n",
            "Epoch 52/100\n",
            "11/11 [==============================] - 0s 4ms/step - loss: 0.0000e+00 - accuracy: 0.1039\n",
            "Epoch 53/100\n",
            "11/11 [==============================] - 0s 2ms/step - loss: 0.0000e+00 - accuracy: 0.1039\n",
            "Epoch 54/100\n",
            "11/11 [==============================] - 0s 2ms/step - loss: 0.0000e+00 - accuracy: 0.1039\n",
            "Epoch 55/100\n",
            "11/11 [==============================] - 0s 2ms/step - loss: 0.0000e+00 - accuracy: 0.1039\n",
            "Epoch 56/100\n",
            "11/11 [==============================] - 0s 3ms/step - loss: 0.0000e+00 - accuracy: 0.1039\n",
            "Epoch 57/100\n",
            "11/11 [==============================] - 0s 3ms/step - loss: 0.0000e+00 - accuracy: 0.1039\n",
            "Epoch 58/100\n",
            "11/11 [==============================] - 0s 2ms/step - loss: 0.0000e+00 - accuracy: 0.1039\n",
            "Epoch 59/100\n",
            "11/11 [==============================] - 0s 2ms/step - loss: 0.0000e+00 - accuracy: 0.1039\n",
            "Epoch 60/100\n",
            "11/11 [==============================] - 0s 2ms/step - loss: 0.0000e+00 - accuracy: 0.1039\n",
            "Epoch 61/100\n",
            "11/11 [==============================] - 0s 2ms/step - loss: 0.0000e+00 - accuracy: 0.1039\n",
            "Epoch 62/100\n",
            "11/11 [==============================] - 0s 2ms/step - loss: 0.0000e+00 - accuracy: 0.1039\n",
            "Epoch 63/100\n",
            "11/11 [==============================] - 0s 4ms/step - loss: 0.0000e+00 - accuracy: 0.1039\n",
            "Epoch 64/100\n",
            "11/11 [==============================] - 0s 2ms/step - loss: 0.0000e+00 - accuracy: 0.1039\n",
            "Epoch 65/100\n",
            "11/11 [==============================] - 0s 2ms/step - loss: 0.0000e+00 - accuracy: 0.1039\n",
            "Epoch 66/100\n",
            "11/11 [==============================] - 0s 3ms/step - loss: 0.0000e+00 - accuracy: 0.1039\n",
            "Epoch 67/100\n",
            "11/11 [==============================] - 0s 2ms/step - loss: 0.0000e+00 - accuracy: 0.1039\n",
            "Epoch 68/100\n",
            "11/11 [==============================] - 0s 2ms/step - loss: 0.0000e+00 - accuracy: 0.1039\n",
            "Epoch 69/100\n",
            "11/11 [==============================] - 0s 4ms/step - loss: 0.0000e+00 - accuracy: 0.1039\n",
            "Epoch 70/100\n",
            "11/11 [==============================] - 0s 2ms/step - loss: 0.0000e+00 - accuracy: 0.1039\n",
            "Epoch 71/100\n",
            "11/11 [==============================] - 0s 2ms/step - loss: 0.0000e+00 - accuracy: 0.1039\n",
            "Epoch 72/100\n",
            "11/11 [==============================] - 0s 2ms/step - loss: 0.0000e+00 - accuracy: 0.1039\n",
            "Epoch 73/100\n",
            "11/11 [==============================] - 0s 3ms/step - loss: 0.0000e+00 - accuracy: 0.1039\n",
            "Epoch 74/100\n",
            "11/11 [==============================] - 0s 3ms/step - loss: 0.0000e+00 - accuracy: 0.1039\n",
            "Epoch 75/100\n",
            "11/11 [==============================] - 0s 2ms/step - loss: 0.0000e+00 - accuracy: 0.1039\n",
            "Epoch 76/100\n",
            "11/11 [==============================] - 0s 2ms/step - loss: 0.0000e+00 - accuracy: 0.1039\n",
            "Epoch 77/100\n",
            "11/11 [==============================] - 0s 2ms/step - loss: 0.0000e+00 - accuracy: 0.1039\n",
            "Epoch 78/100\n",
            "11/11 [==============================] - 0s 2ms/step - loss: 0.0000e+00 - accuracy: 0.1039\n",
            "Epoch 79/100\n",
            "11/11 [==============================] - 0s 2ms/step - loss: 0.0000e+00 - accuracy: 0.1039\n",
            "Epoch 80/100\n",
            "11/11 [==============================] - 0s 3ms/step - loss: 0.0000e+00 - accuracy: 0.1039\n",
            "Epoch 81/100\n",
            "11/11 [==============================] - 0s 2ms/step - loss: 0.0000e+00 - accuracy: 0.1039\n",
            "Epoch 82/100\n",
            "11/11 [==============================] - 0s 2ms/step - loss: 0.0000e+00 - accuracy: 0.1039\n",
            "Epoch 83/100\n",
            "11/11 [==============================] - 0s 2ms/step - loss: 0.0000e+00 - accuracy: 0.1039\n",
            "Epoch 84/100\n",
            "11/11 [==============================] - 0s 2ms/step - loss: 0.0000e+00 - accuracy: 0.1039\n",
            "Epoch 85/100\n",
            "11/11 [==============================] - 0s 3ms/step - loss: 0.0000e+00 - accuracy: 0.1039\n",
            "Epoch 86/100\n",
            "11/11 [==============================] - 0s 2ms/step - loss: 0.0000e+00 - accuracy: 0.1039\n",
            "Epoch 87/100\n",
            "11/11 [==============================] - 0s 3ms/step - loss: 0.0000e+00 - accuracy: 0.1039\n",
            "Epoch 88/100\n",
            "11/11 [==============================] - 0s 3ms/step - loss: 0.0000e+00 - accuracy: 0.1039\n",
            "Epoch 89/100\n",
            "11/11 [==============================] - 0s 2ms/step - loss: 0.0000e+00 - accuracy: 0.1039\n",
            "Epoch 90/100\n",
            "11/11 [==============================] - 0s 2ms/step - loss: 0.0000e+00 - accuracy: 0.1039\n",
            "Epoch 91/100\n",
            "11/11 [==============================] - 0s 2ms/step - loss: 0.0000e+00 - accuracy: 0.1039\n",
            "Epoch 92/100\n",
            "11/11 [==============================] - 0s 3ms/step - loss: 0.0000e+00 - accuracy: 0.1039\n",
            "Epoch 93/100\n",
            "11/11 [==============================] - 0s 2ms/step - loss: 0.0000e+00 - accuracy: 0.1039\n",
            "Epoch 94/100\n",
            "11/11 [==============================] - 0s 2ms/step - loss: 0.0000e+00 - accuracy: 0.1039\n",
            "Epoch 95/100\n",
            "11/11 [==============================] - 0s 2ms/step - loss: 0.0000e+00 - accuracy: 0.1039\n",
            "Epoch 96/100\n",
            "11/11 [==============================] - 0s 2ms/step - loss: 0.0000e+00 - accuracy: 0.1039\n",
            "Epoch 97/100\n",
            "11/11 [==============================] - 0s 2ms/step - loss: 0.0000e+00 - accuracy: 0.1039\n",
            "Epoch 98/100\n",
            "11/11 [==============================] - 0s 3ms/step - loss: 0.0000e+00 - accuracy: 0.1039\n",
            "Epoch 99/100\n",
            "11/11 [==============================] - 0s 2ms/step - loss: 0.0000e+00 - accuracy: 0.1039\n",
            "Epoch 100/100\n",
            "11/11 [==============================] - 0s 3ms/step - loss: 0.0000e+00 - accuracy: 0.1039\n"
          ]
        },
        {
          "output_type": "execute_result",
          "data": {
            "text/plain": [
              "<keras.callbacks.History at 0x7faa43919c50>"
            ]
          },
          "metadata": {},
          "execution_count": 23
        }
      ]
    },
    {
      "cell_type": "markdown",
      "metadata": {
        "id": "BF-XNKA9oNFT"
      },
      "source": [
        "## Applying PCA\n",
        "\n",
        "*   classification algorithm to reduce dimensionality\n",
        "*   component axes that maximize the variance"
      ]
    },
    {
      "cell_type": "code",
      "source": [
        "from sklearn.decomposition import PCA\n",
        "pca = PCA()\n",
        "X_trainPCA = pca.fit_transform(X_train)\n",
        "X_testPCA = pca.transform(X_test)"
      ],
      "metadata": {
        "id": "0vjXl69EoJMI"
      },
      "execution_count": null,
      "outputs": []
    },
    {
      "cell_type": "code",
      "source": [
        "ann.compile(optimizer = 'adam', loss = 'binary_crossentropy', metrics = ['accuracy'])\n",
        "ann.fit(X_trainPCA, y_train, batch_size = 32, epochs = 100)"
      ],
      "metadata": {
        "id": "N_X02__43gXJ"
      },
      "execution_count": null,
      "outputs": []
    },
    {
      "cell_type": "markdown",
      "metadata": {
        "id": "UBx16JVLAuel"
      },
      "source": [
        "## Training the Logistic Regression model on the Training set"
      ]
    },
    {
      "cell_type": "code",
      "metadata": {
        "id": "XDQahsqTAy44",
        "colab": {
          "base_uri": "https://localhost:8080/"
        },
        "outputId": "a256cf69-ed7f-4941-e00f-bb7d88b1ad98"
      },
      "source": [
        "from sklearn.linear_model import LogisticRegression\n",
        "classifierPCA = LogisticRegression(random_state = 0, max_iter=10000)\n",
        "classifierPCA.fit(X_trainPCA, y_train)"
      ],
      "execution_count": null,
      "outputs": [
        {
          "output_type": "execute_result",
          "data": {
            "text/plain": [
              "LogisticRegression(max_iter=10000, random_state=0)"
            ]
          },
          "metadata": {},
          "execution_count": 14
        }
      ]
    },
    {
      "cell_type": "markdown",
      "metadata": {
        "id": "MTck416XBPnD"
      },
      "source": [
        "## Making the Confusion Matrix and compute accuracy\n",
        "\n",
        "\n"
      ]
    },
    {
      "cell_type": "code",
      "metadata": {
        "id": "2LO7H5LsBS1b",
        "colab": {
          "base_uri": "https://localhost:8080/"
        },
        "outputId": "01406abe-f2a3-4cc2-db88-2a180f739cc7"
      },
      "source": [
        "from sklearn.metrics import confusion_matrix, accuracy_score\n",
        "y_predPCA = classifierPCA.predict(X_testPCA)\n",
        "cm = confusion_matrix(y_test, y_predPCA)\n",
        "print(cm)\n",
        "print(\"Accuracy score: {:.2f} %\".format(accuracy_score(y_test, y_predPCA)*100))\n",
        "\n",
        "from sklearn.model_selection import cross_val_score\n",
        "accuracies = cross_val_score(estimator = classifierPCA, X = X_trainPCA, y = y_train, cv = 10)\n",
        "print(\"Accuracy: {:.2f} %\".format(accuracies.mean()*100))\n",
        "print(\"Standard Deviation: {:.2f} %\".format(accuracies.std()*100))"
      ],
      "execution_count": null,
      "outputs": [
        {
          "output_type": "stream",
          "name": "stdout",
          "text": [
            "[[15  0  0  0  0  0  0  0  0]\n",
            " [ 0 13  0  0  0  0  0  0  0]\n",
            " [ 0  0 13  0  0  0  0  0  0]\n",
            " [ 0  0  0 13  0  1  0  0  0]\n",
            " [ 0  0  0  0 14  0  0  0  0]\n",
            " [ 0  0  0  0  0  9  0  0  0]\n",
            " [ 0  0  0  0  0  0 10  0  0]\n",
            " [ 0  0  0  0  0  0  0 14  0]\n",
            " [ 0  0  0  0  0  0  0  1 10]]\n",
            "Accuracy score: 98.23 %\n",
            "Accuracy: 99.41 %\n",
            "Standard Deviation: 1.18 %\n"
          ]
        }
      ]
    }
  ]
}